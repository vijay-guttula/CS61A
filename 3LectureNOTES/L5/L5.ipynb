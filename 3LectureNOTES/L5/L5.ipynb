{
 "cells": [
  {
   "cell_type": "code",
   "execution_count": 18,
   "metadata": {},
   "outputs": [],
   "source": [
    "from operator import add,mul"
   ]
  },
  {
   "cell_type": "markdown",
   "metadata": {},
   "source": [
    "A higher order function is a function which takes a function as an argument"
   ]
  },
  {
   "cell_type": "code",
   "execution_count": 19,
   "metadata": {},
   "outputs": [],
   "source": [
    "def apply_twice(f, x):\n",
    "    return f(f(x))\n",
    "\n",
    "def square (x):\n",
    "    return x * x"
   ]
  },
  {
   "cell_type": "code",
   "execution_count": 20,
   "metadata": {},
   "outputs": [
    {
     "data": {
      "text/plain": [
       "16"
      ]
     },
     "execution_count": 20,
     "metadata": {},
     "output_type": "execute_result"
    }
   ],
   "source": [
    "apply_twice(square,2)"
   ]
  },
  {
   "cell_type": "code",
   "execution_count": 21,
   "metadata": {},
   "outputs": [],
   "source": [
    "def repeat(f, x):\n",
    "    while f(x) != x:\n",
    "        x = f(x)\n",
    "    return x\n",
    "\n",
    "def g(y) :\n",
    "    return (y + 5) // 3"
   ]
  },
  {
   "cell_type": "code",
   "execution_count": 22,
   "metadata": {},
   "outputs": [
    {
     "data": {
      "text/plain": [
       "2"
      ]
     },
     "execution_count": 22,
     "metadata": {},
     "output_type": "execute_result"
    }
   ],
   "source": [
    "repeat (g, 5)"
   ]
  },
  {
   "cell_type": "code",
   "execution_count": 23,
   "metadata": {},
   "outputs": [
    {
     "data": {
      "text/plain": [
       "'\\nhere you can either call this fucntion has make_adder(n)(k) or we know we can assign names to functions so\\nwe assign make_adder to something like x = make_adder(3) then we can call x(4) which will be 7 \\n'"
      ]
     },
     "execution_count": 23,
     "metadata": {},
     "output_type": "execute_result"
    }
   ],
   "source": [
    "def make_adder(n):\n",
    "    def adder(k):\n",
    "        return k + n\n",
    "    return adder\n",
    "\n",
    "'''\n",
    "here you can either call this fucntion has make_adder(n)(k) or we know we can assign names to functions so\n",
    "we assign make_adder to something like x = make_adder(3) then we can call x(4) which will be 7 \n",
    "'''"
   ]
  },
  {
   "cell_type": "code",
   "execution_count": 24,
   "metadata": {},
   "outputs": [
    {
     "data": {
      "text/plain": [
       "7"
      ]
     },
     "execution_count": 24,
     "metadata": {},
     "output_type": "execute_result"
    }
   ],
   "source": [
    "x = make_adder(3)\n",
    "x(4)"
   ]
  },
  {
   "cell_type": "code",
   "execution_count": 25,
   "metadata": {},
   "outputs": [
    {
     "data": {
      "text/plain": [
       "'\\nNow you can compose functions using compose 1\\n'"
      ]
     },
     "execution_count": 25,
     "metadata": {},
     "output_type": "execute_result"
    }
   ],
   "source": [
    "def triple (x):\n",
    "    return 3 * x\n",
    "\n",
    "def compose1(f, g):\n",
    "    def h(x):\n",
    "        return f(g(x))\n",
    "    return h\n",
    "\n",
    "'''\n",
    "Now you can compose functions using compose 1\n",
    "'''\n"
   ]
  },
  {
   "cell_type": "code",
   "execution_count": 26,
   "metadata": {},
   "outputs": [
    {
     "data": {
      "text/plain": [
       "81"
      ]
     },
     "execution_count": 26,
     "metadata": {},
     "output_type": "execute_result"
    }
   ],
   "source": [
    "x = compose1(square, triple)\n",
    "x(3)"
   ]
  },
  {
   "cell_type": "markdown",
   "metadata": {},
   "source": [
    "# Self Reference"
   ]
  },
  {
   "cell_type": "code",
   "execution_count": 27,
   "metadata": {},
   "outputs": [],
   "source": [
    "def print_all(k):\n",
    "    \n",
    "    '''\n",
    "    Print all arguments of repeated calls.\n",
    "    f = print_all(1)(2)(3)(4)(5)\n",
    "    1\n",
    "    2\n",
    "    3\n",
    "    4\n",
    "    5\n",
    "    \n",
    "    it works by printing the variable k and returning the same funcition to the print_all(1) place and so next remaining\n",
    "    statement will look like print_all(2)(3)(4)(5)\n",
    "    '''\n",
    "    \n",
    "    print(k)\n",
    "    return print_all\n",
    "    \n"
   ]
  },
  {
   "cell_type": "code",
   "execution_count": 28,
   "metadata": {},
   "outputs": [
    {
     "name": "stdout",
     "output_type": "stream",
     "text": [
      "1\n",
      "2\n",
      "3\n",
      "4\n",
      "5\n"
     ]
    },
    {
     "data": {
      "text/plain": [
       "<function __main__.print_all(k)>"
      ]
     },
     "execution_count": 28,
     "metadata": {},
     "output_type": "execute_result"
    }
   ],
   "source": [
    "print_all(1)(2)(3)(4)(5)"
   ]
  },
  {
   "cell_type": "code",
   "execution_count": 29,
   "metadata": {},
   "outputs": [],
   "source": [
    "def print_sums(k):\n",
    "    '''\n",
    "    print the sums of the arguemnts of repeated calls\n",
    "    print_sums(1)(2)(3)(4)(5)\n",
    "    1\n",
    "    3\n",
    "    6\n",
    "    10\n",
    "    15\n",
    "    '''\n",
    "    print(k)\n",
    "    def next_sum(n):\n",
    "        return print_sums(k + n)\n",
    "    return next_sum\n",
    "    \n",
    "    '''\n",
    "how it works -\n",
    "\n",
    "first we when we run print_sums(1)(2)(3)(4)(5), print_sums(1) gets executed and it prints 1 and then,\n",
    "it defines and returns the function next_sum, Please Read it clearly, I'm not saying its calling the function next_sum,\n",
    "rather I'm saying it's returning the function next_sum, back to the statement which is not complete yet.\n",
    "So the statement now will be like => (print_sums(1))(2)(3)(4)(5) ----> next_sum(2)(3)(4)(5). Now next_sum(2) gets executed.\n",
    "so it returns by calling print_sums(1 + 2), so it takes us back to the print(k) which is now 3, so 3 prints out and then\n",
    "it returns the next_sum function again, so now it's going to be next_sum(3)(4)(5) and the same process will continue, untill\n",
    "there's nothing to call using the return, so in the end, imagine if you executed the code like\n",
    ">> f = print_sums(k + n)\n",
    "then the code excecutes like i said but in the end, after printing all the values, f will be a new name for the function\n",
    "next_sum or you can say next_sums function as been assigned to f.\n",
    "so you can continue next_summing buy calling f(6) which will print 21 and so on.\n",
    "you can also see the part that its a function. at the end. so the function is being returned.\n",
    "f doesn't store any value, it is a reference to the function. you can find it by the type.\n",
    "    '''\n",
    "\n",
    "\n"
   ]
  },
  {
   "cell_type": "code",
   "execution_count": 41,
   "metadata": {},
   "outputs": [
    {
     "name": "stdout",
     "output_type": "stream",
     "text": [
      "1\n",
      "3\n",
      "6\n",
      "10\n",
      "15\n",
      "<function print_sums.<locals>.next_sum at 0x108c613a0>\n"
     ]
    },
    {
     "data": {
      "text/plain": [
       "function"
      ]
     },
     "execution_count": 41,
     "metadata": {},
     "output_type": "execute_result"
    }
   ],
   "source": [
    "f = print_sums(1)(2)(3)(4)(5)\n",
    "print(f)\n",
    "type(f)"
   ]
  },
  {
   "cell_type": "markdown",
   "metadata": {},
   "source": [
    "# Currying "
   ]
  },
  {
   "cell_type": "code",
   "execution_count": 31,
   "metadata": {},
   "outputs": [],
   "source": [
    "def curry(f):\n",
    "    '''\n",
    "    >> m = curry(add)\n",
    "    >> add_three = m(3)\n",
    "    >> add_three(4)\n",
    "    7\n",
    "    >> add_three(2)\n",
    "    5\n",
    "    >> m(2)(1)\n",
    "    3\n",
    "    >> m(1)(1)\n",
    "    2\n",
    "    >> curry(add)(2)(4)\n",
    "    6\n",
    "    >> curry(mul)(2)(5)\n",
    "    10\n",
    "    '''\n",
    "    \n",
    "    def g(x):\n",
    "        def h(y):\n",
    "            return f(x,y)\n",
    "        return h\n",
    "    return g\n",
    "    '''\n",
    "    How it works - basically you can use this to implement functions of fucntions.\n",
    "    like you basically have a function which takes 2 arguments and you are not sure of what the function can be\n",
    "    or the arugments, so you can simply use this kind of function definitions, where\n",
    "    you call it like curry(add)(2)(4) or you can simply it more by assigning curry(add) part to a varible and then\n",
    "    executing variable(2)(4) which does operations based on the function you passed first.\n",
    "    \n",
    "    so how it works, is first when the curry(add) gets executed, it returns g, so then g(2) gets executed, then\n",
    "    it returns h, then h(4) gets executed, which returns f(x,y), which here means add(2,4), so add of 2,4 gets executed\n",
    "    and it returns 6 and so the h function returns 6 which get printsout.\n",
    "    compared to the above code, here the integer value is getting returned in the end so it stores the integer\n",
    "    and so it returns the integer.\n",
    "    unlike above its not storing the function or it's a reference to the function in the end.\n",
    "    you can verify by using type.\n",
    "    '''"
   ]
  },
  {
   "cell_type": "code",
   "execution_count": 42,
   "metadata": {},
   "outputs": [
    {
     "name": "stdout",
     "output_type": "stream",
     "text": [
      "6\n"
     ]
    },
    {
     "data": {
      "text/plain": [
       "int"
      ]
     },
     "execution_count": 42,
     "metadata": {},
     "output_type": "execute_result"
    }
   ],
   "source": [
    "f = curry(mul)(2)(5)\n",
    "f = curry(add)(2)(4)\n",
    "print(f)\n",
    "type(f)\n",
    "#f(1) returns an error"
   ]
  },
  {
   "cell_type": "code",
   "execution_count": null,
   "metadata": {},
   "outputs": [],
   "source": []
  }
 ],
 "metadata": {
  "kernelspec": {
   "display_name": "Python 3",
   "language": "python",
   "name": "python3"
  },
  "language_info": {
   "codemirror_mode": {
    "name": "ipython",
    "version": 3
   },
   "file_extension": ".py",
   "mimetype": "text/x-python",
   "name": "python",
   "nbconvert_exporter": "python",
   "pygments_lexer": "ipython3",
   "version": "3.9.0"
  }
 },
 "nbformat": 4,
 "nbformat_minor": 4
}
