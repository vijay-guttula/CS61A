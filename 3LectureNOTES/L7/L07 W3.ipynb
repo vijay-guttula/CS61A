{
 "cells": [
  {
   "cell_type": "markdown",
   "metadata": {},
   "source": [
    "#   Decorators\n",
    "\n",
    "This is a feature in python which utilizes higher order functions.\n",
    "\n"
   ]
  },
  {
   "cell_type": "code",
   "execution_count": 15,
   "metadata": {},
   "outputs": [],
   "source": [
    "def trace1(fn):\n",
    "    '''\n",
    "    returns a function equivalent to fn that also prints trace output\n",
    "    fn -- a function of one argument\n",
    "    '''\n",
    "    def traced(x):\n",
    "        print('Caling',fn,'on argument',x)\n",
    "        return fn(x)\n",
    "    return traced\n",
    "\n",
    "@trace1 #function decorator\n",
    "def square(x):\n",
    "    return x * x\n",
    "\n",
    "@trace1 #function decorator\n",
    "def sum_squares_up_to(n):\n",
    "    total,k = 0, 1\n",
    "    while k <= n :\n",
    "        total, k = total + square(k), k + 1\n",
    "    return total\n",
    "    \n",
    "    \n",
    "    \n",
    "    '''This is identical to sums_squares_up_to = trace1(sums_squares_up_to)\n",
    "    so when sum_squares_upto is called its called like trace1(sums_squares_upto)(n)'''"
   ]
  },
  {
   "cell_type": "code",
   "execution_count": 5,
   "metadata": {},
   "outputs": [
    {
     "name": "stdout",
     "output_type": "stream",
     "text": [
      "Caling <function sum_squares_up_to at 0x109856f70> on argument 5\n",
      "Caling <function square at 0x109856ca0> on argument 1\n",
      "Caling <function square at 0x109856ca0> on argument 2\n",
      "Caling <function square at 0x109856ca0> on argument 3\n",
      "Caling <function square at 0x109856ca0> on argument 4\n",
      "Caling <function square at 0x109856ca0> on argument 5\n",
      "55\n"
     ]
    }
   ],
   "source": [
    "print(sum_squares_up_to(5))"
   ]
  }
 ],
 "metadata": {
  "kernelspec": {
   "display_name": "Python 3",
   "language": "python",
   "name": "python3"
  },
  "language_info": {
   "codemirror_mode": {
    "name": "ipython",
    "version": 3
   },
   "file_extension": ".py",
   "mimetype": "text/x-python",
   "name": "python",
   "nbconvert_exporter": "python",
   "pygments_lexer": "ipython3",
   "version": "3.9.0"
  }
 },
 "nbformat": 4,
 "nbformat_minor": 4
}
